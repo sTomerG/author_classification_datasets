{
 "cells": [
  {
   "cell_type": "markdown",
   "metadata": {},
   "source": [
    "------------------------------------------------\n",
    "This file is created by Tomer Gabay in February 2020.\n",
    "-------------------------------------"
   ]
  },
  {
   "cell_type": "markdown",
   "metadata": {},
   "source": [
    "----------\n",
    "Functions neccessary to import and filter the lyrics:\n",
    "----"
   ]
  },
  {
   "cell_type": "code",
   "execution_count": null,
   "metadata": {},
   "outputs": [],
   "source": [
    "from collections import Counter\n",
    "\n",
    "import lyricsgenius\n",
    "import csv\n",
    "\n",
    "def remove_invalid_lyrics(songs): # removes invalid lyrics\n",
    "    return [song for song in songs if song.lyrics is not None]\n",
    "\n",
    "def remove_featured_songs(songs): # removes songs with multiple artists \n",
    "    return [song for song in songs if song.featured_artists == []]\n",
    "\n",
    "def remove_too_short_lyrics(songs): # removes songs with less than 250 words in the lyrics\n",
    "    return [song for song in songs if len(song.lyrics.split()) >= 250]\n",
    "\n",
    "def remove_no_album_songs(songs): # removes songs without an album, which usually aren't songs\n",
    "    return [song for song in songs if song.album != None]\n",
    "\n",
    "def remove_versions(songs): # removes different versions of the same song e.g. Goodmorning & Goodmorning (live)\n",
    "    temp_one_version_list = []\n",
    "    one_version_list = []\n",
    "    for song in songs:\n",
    "        if song.title.split('(')[0].lower().rstrip() not in temp_one_version_list and 'remix' not in song.title.lower() and '(live' not in song.title.lower():\n",
    "            temp_one_version_list.append(song.title.split('(')[0].lower().rstrip())\n",
    "            one_version_list.append(song)\n",
    "    return one_version_list\n",
    "\n",
    "def remove_spoken(songs): # removes inros, outros, interludes and skits\n",
    "    filtered_songs = []\n",
    "    for song in songs:\n",
    "        title = song.title.lower()\n",
    "        if \"interlude\" not in title and \"outro\" not in title and \"intro\" not in title and \"skit\" not in title:\n",
    "            filtered_songs.append(song)\n",
    "    return filtered_songs\n",
    "    \n",
    "def write_csv(songs, filename): # writes songs to a pickle file\n",
    "    with open(filename, mode='w') as csv_file:\n",
    "        fieldnames = ['lyrics','artist','song_title','featuring']\n",
    "        writer = csv.DictWriter(csv_file, fieldnames=fieldnames)\n",
    "        writer.writeheader()\n",
    "        for song in songs:\n",
    "            writer.writerow({'lyrics':song.lyrics,'artist':song.artist,'song_title':song.title,'featuring':\", \".join([song.featured_artists[i]['name'] for i in range(len(song.featured_artists))])})"
   ]
  },
  {
   "cell_type": "markdown",
   "metadata": {},
   "source": [
    "----------\n",
    "Download all songs of a specific artist:\n",
    "-----"
   ]
  },
  {
   "cell_type": "code",
   "execution_count": null,
   "metadata": {},
   "outputs": [],
   "source": [
    "genius = lyricsgenius.Genius(\"GENIUS TOKEN ACCESS KEY\") # https://genius.com/api-clients\n",
    "artist = genius.search_artist(\"ARTIST\",sort=\"title\")\n",
    "songs = [song for song in artist.songs]"
   ]
  },
  {
   "cell_type": "markdown",
   "metadata": {},
   "source": [
    "----------\n",
    "Run the cell below to remove songs with invalid lyrics\n",
    "-----"
   ]
  },
  {
   "cell_type": "code",
   "execution_count": null,
   "metadata": {},
   "outputs": [],
   "source": [
    "songs_new = remove_invalid_lyrics(songs)\n",
    "print(\"{0:>3} songs removed.\\n{1:>3} songs left.\".format(len(songs)-len(songs_new),len(songs_new)))\n",
    "songs = songs_new"
   ]
  },
  {
   "cell_type": "markdown",
   "metadata": {},
   "source": [
    "----------\n",
    "Run the cell below to remove songs with multiple artists\n",
    "----"
   ]
  },
  {
   "cell_type": "code",
   "execution_count": null,
   "metadata": {},
   "outputs": [],
   "source": [
    "songs_new = remove_featured_songs(songs)\n",
    "print(\"{0:>3} songs removed.\\n{1:>3} songs left.\".format(len(songs)-len(songs_new),len(songs_new)))\n",
    "songs = songs_new"
   ]
  },
  {
   "cell_type": "markdown",
   "metadata": {},
   "source": [
    "----------\n",
    "Run the cell below to remove songs with no related album\n",
    "------------------"
   ]
  },
  {
   "cell_type": "code",
   "execution_count": null,
   "metadata": {},
   "outputs": [],
   "source": [
    "songs_new = remove_no_album_songs(songs)\n",
    "print(\"{0:>3} songs removed.\\n{1:>3} songs left.\".format(len(songs)-len(songs_new),len(songs_new)))\n",
    "songs = songs_new"
   ]
  },
  {
   "cell_type": "markdown",
   "metadata": {},
   "source": [
    "----------\n",
    "Run the cell below to remove songs with too short lyrcs (less than 250 words)\n",
    "------"
   ]
  },
  {
   "cell_type": "code",
   "execution_count": null,
   "metadata": {},
   "outputs": [],
   "source": [
    "songs_new = remove_too_short_lyrics(songs)\n",
    "print(\"{0:>3} songs removed.\\n{1:>3} songs left.\".format(len(songs)-len(songs_new),len(songs_new)))\n",
    "songs = songs_new"
   ]
  },
  {
   "cell_type": "markdown",
   "metadata": {},
   "source": [
    "------------\n",
    "Run the cell below to remove different versions of the same songs\n",
    "------"
   ]
  },
  {
   "cell_type": "code",
   "execution_count": null,
   "metadata": {},
   "outputs": [],
   "source": [
    "songs_new = remove_versions(songs)\n",
    "print(\"{0:>3} songs removed.\\n{1:>3} songs left.\".format(len(songs)-len(songs_new),len(songs_new)))\n",
    "songs = songs_new"
   ]
  },
  {
   "cell_type": "markdown",
   "metadata": {},
   "source": [
    "-------------\n",
    "Run the cell below to remove spoken songs\n",
    "-----"
   ]
  },
  {
   "cell_type": "code",
   "execution_count": null,
   "metadata": {},
   "outputs": [],
   "source": [
    "songs_new = remove_spoken(songs)\n",
    "print(\"{0:>3} songs removed.\\n{1:>3} songs left.\".format(len(songs)-len(songs_new),len(songs_new)))\n",
    "songs = songs_new"
   ]
  },
  {
   "cell_type": "markdown",
   "metadata": {},
   "source": [
    "--------------------------------------------\n",
    "Run the cell below to see all remaining songs\n",
    "------"
   ]
  },
  {
   "cell_type": "code",
   "execution_count": null,
   "metadata": {},
   "outputs": [],
   "source": [
    "for i,song in enumerate(songs):\n",
    "    print(\"{0:<3} {1:<30} {2}\".format(i,song.title, song.album))"
   ]
  },
  {
   "cell_type": "markdown",
   "metadata": {},
   "source": [
    "-----------\n",
    "Run the cell below to write the remaining songs to a csv file\n",
    "------"
   ]
  },
  {
   "cell_type": "code",
   "execution_count": null,
   "metadata": {},
   "outputs": [],
   "source": [
    "write_csv(songs,\"PATH\")"
   ]
  }
 ],
 "metadata": {
  "kernelspec": {
   "display_name": "Python 3",
   "language": "python",
   "name": "python3"
  },
  "language_info": {
   "codemirror_mode": {
    "name": "ipython",
    "version": 3
   },
   "file_extension": ".py",
   "mimetype": "text/x-python",
   "name": "python",
   "nbconvert_exporter": "python",
   "pygments_lexer": "ipython3",
   "version": "3.8.2"
  }
 },
 "nbformat": 4,
 "nbformat_minor": 2
}
